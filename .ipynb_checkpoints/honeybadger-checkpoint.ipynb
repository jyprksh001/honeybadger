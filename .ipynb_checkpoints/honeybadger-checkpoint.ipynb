{
 "cells": [
  {
   "cell_type": "code",
   "execution_count": 1,
   "metadata": {
    "collapsed": true
   },
   "outputs": [],
   "source": [
    "file=open('./customerdata.txt');\n",
    "data=file.read()"
   ]
  },
  {
   "cell_type": "code",
   "execution_count": 2,
   "metadata": {
    "collapsed": false,
    "scrolled": true
   },
   "outputs": [
    {
     "data": {
      "text/plain": [
       "'Date, Phone, Named, Amount\\r\\n2016-04-29, 9455622241, Shankara Narasimhan, 260\\r\\n2016-04-29, 9597628723, Sulya Gupta, 90\\r\\n2016-04-29, 9640338121, Brahma Swamy, 80\\r\\n2016-04-29, 9383568793, Vaibhav Mulye, 240\\r\\n2016-04-29, 9455622241, Shankara Narasimhan, 230\\r\\n2016-04-29, 9521737322, Riddhi Nair, 70\\r\\n2016-04-29, 9389644210, Brahma Swamy, 80\\r\\n2016-04-29, 9603660688, Dhenuka Dhawan, 250\\r\\n2016-04-29, 9451926724, Sahan Sibal, 260\\r\\n2016-04-29, 9699939066, Haripriya Nayak, 270\\r\\n2016-04-29, 9590146908, Sachi Loliyekar, 110\\r\\n2016-04-29, 9389644210, Brahma Swamy, 100\\r\\n2016-04-29, 9640338121, Brahma Swamy, 240\\r\\n2016-04-29, 9236367267, Takshaka Sandal, 70\\r\\n2016-04-30, 9969345730, Kavi Edwin, 210\\r\\n2016-04-30, 9389644210, Brahma Swamy, 280\\r\\n2016-04-30, 9971276037, Pramlocha Comar, 210\\r\\n2016-04-30, 9241664018, Utathya Ghate, 260\\r\\n2016-04-30, 9248936762, Arpana Raja, 260\\r\\n2016-04-30, 9640338121, Brahma Swamy, 200\\r\\n2016-04-30, 9895408016, Mukul Krishna, 180\\r\\n2016-04-30, 9241664018, Utathya Ghate, 260\\r\\n2016-04-30, 9920950009, Rohan Sarma, 110\\r\\n2016-04-30, 9820224845, Tanika Philip, 90\\r\\n2016-04-30, 9383568793, Vaibhav Mulye, 200\\r\\n2016-04-30, 9732082404, Kali Chaudry, 290\\r\\n2016-04-30, 9534474777, Daeva Tata, 70\\r\\n2016-05-01, 9389644210, Brahma Swamy, 160\\r\\n2016-05-01, 9572464275, Salmalin Mehta, 100\\r\\n2016-05-01, 9688156631, Sahan Oak, 200\\r\\n2016-05-01, 9236367267, Takshaka Sandal, 250\\r\\n2016-05-01, 9979209995, Atman Mathur, 140\\r\\n2016-05-01, 9521737322, Riddhi Nair, 140\\r\\n2016-05-01, 9265205814, Daeva Peri, 180\\r\\n2016-05-01, 9267357082, Muni Wasgare, 210\\r\\n2016-05-01, 9267357082, Muni Wasgare, 290\\r\\n2016-05-01, 9590146908, Sachi Loliyekar, 190\\r\\n2016-05-01, 9389644210, Brahma Swamy, 290\\r\\n2016-05-01, 9241664018, Utathya Ghate, 180\\r\\n2016-05-02, 9971276037, Pramlocha Comar, 80\\r\\n2016-05-02, 9920950009, Rohan Sarma, 140\\r\\n2016-05-02, 9705384480, Latif Chia, 70\\r\\n2016-05-02, 9252350612, Anushka Mody, 150\\r\\n2016-05-02, 9688156631, Sahan Oak, 290\\r\\n2016-05-02, 9359394987, Tarun Mapkar, 260\\r\\n2016-05-02, 9747425720, Markandeya Barad, 100\\r\\n2016-05-02, 9389644210, Brahma Swamy, 180\\r\\n2016-05-02, 9699939066, Haripriya Nayak, 110\\r\\n2016-05-02, 9590146908, Sachi Loliyekar, 220\\r\\n2016-05-02, 9820224845, Tanika Philip, 220\\r\\n2016-05-02, 9747425720, Markandeya Barad, 90\\r\\n2016-05-03, 9910042819, Shanti Bajwa, 100\\r\\n2016-05-03, 9518195948, Indra Chaudry, 110\\r\\n2016-05-03, 9389644210, Brahma Swamy, 80\\r\\n2016-05-03, 9236367267, Takshaka Sandal, 100\\r\\n2016-05-03, 9640338121, Brahma Swamy, 100\\r\\n2016-05-03, 9389644210, Brahma Swamy, 120\\r\\n2016-05-03, 9453085874, Manu Oza, 120\\r\\n2016-05-03, 9976945538, Amitabha Kothari, 270\\r\\n2016-05-03, 9910042819, Shanti Bajwa, 280\\r\\n2016-05-03, 9389644210, Brahma Swamy, 200\\r\\n2016-05-03, 9405883814, Gauri Som, 220\\r\\n2016-05-03, 9252350612, Anushka Mody, 170\\r\\n2016-05-04, 9453085874, Manu Oza, 120\\r\\n2016-05-04, 9640338121, Brahma Swamy, 150\\r\\n2016-05-04, 9927277067, Ranjan Khare, 80\\r\\n2016-05-04, 9910042819, Shanti Bajwa, 250\\r\\n2016-05-04, 9389644210, Brahma Swamy, 200\\r\\n2016-05-04, 9293117791, Kumara Nayak, 250\\r\\n2016-05-04, 9976945538, Amitabha Kothari, 110\\r\\n2016-05-04, 9518195948, Indra Chaudry, 200\\r\\n2016-05-04, 9518195948, Indra Chaudry, 130\\r\\n2016-05-04, 9389644210, Brahma Swamy, 140\\r\\n2016-05-04, 9521737322, Riddhi Nair, 120\\r\\n2016-05-04, 9920950009, Rohan Sarma, 120\\r\\n2016-05-04, 9597628723, Sulya Gupta, 140\\r\\n2016-05-04, 9534474777, Daeva Tata, 70\\r\\n2016-05-04, 9009381182, Mira Reddy, 240\\r\\n2016-05-04, 9009381182, Mira Reddy, 160\\r\\n2016-05-04, 9236367267, Takshaka Sandal, 150\\r\\n2016-05-04, 9265205814, Daeva Peri, 180\\r\\n2016-05-05, 9451926724, Sahan Sibal, 170\\r\\n2016-05-05, 9504662177, Tara Menon, 230\\r\\n2016-05-05, 9455622241, Shankara Narasimhan, 200\\r\\n2016-05-05, 9927277067, Ranjan Khare, 110\\r\\n2016-05-05, 9521737322, Riddhi Nair, 90\\r\\n2016-05-05, 9252350612, Anushka Mody, 120\\r\\n2016-05-05, 9699939066, Haripriya Nayak, 70\\r\\n2016-05-05, 9150159527, Leya Sankaran, 270\\r\\n2016-05-05, 9389644210, Brahma Swamy, 240\\r\\n2016-05-05, 9733555024, Nirav Khalsa, 110\\r\\n2016-05-05, 9236367267, Takshaka Sandal, 200\\r\\n2016-05-05, 9241664018, Utathya Ghate, 260\\r\\n2016-05-06, 9455622241, Shankara Narasimhan, 210\\r\\n2016-05-06, 9389644210, Brahma Swamy, 250\\r\\n2016-05-06, 9705384480, Latif Chia, 160\\r\\n2016-05-06, 9359394987, Tarun Mapkar, 100\\r\\n2016-05-06, 9688156631, Sahan Oak, 210\\r\\n2016-05-06, 9688156631, Sahan Oak, 280\\r\\n2016-05-06, 9389644210, Brahma Swamy, 110\\r\\n2016-05-06, 9699939066, Haripriya Nayak, 130\\r\\n2016-05-06, 9389644210, Brahma Swamy, 110\\r\\n2016-05-06, 9389644210, Brahma Swamy, 90\\r\\n2016-05-06, 9597628723, Sulya Gupta, 190\\r\\n2016-05-06, 9521737322, Riddhi Nair, 140\\r\\n2016-05-06, 9451926724, Sahan Sibal, 230\\r\\n2016-05-06, 9403313898, Adri Dave, 210\\r\\n2016-05-06, 9895408016, Mukul Krishna, 240\\r\\n2016-05-06, 9504662177, Tara Menon, 140\\r\\n2016-05-07, 9389644210, Brahma Swamy, 140\\r\\n2016-05-07, 9699939066, Haripriya Nayak, 280\\r\\n2016-05-07, 9732082404, Kali Chaudry, 130\\r\\n2016-05-07, 9150159527, Leya Sankaran, 250\\r\\n2016-05-07, 9820224845, Tanika Philip, 290\\r\\n2016-05-07, 9248936762, Arpana Raja, 260\\r\\n2016-05-07, 9293117791, Kumara Nayak, 200\\r\\n2016-05-07, 9640338121, Brahma Swamy, 200\\r\\n2016-05-07, 9732082404, Kali Chaudry, 280\\r\\n2016-05-07, 9265205814, Daeva Peri, 70\\r\\n2016-05-07, 9534474777, Daeva Tata, 160\\r\\n2016-05-07, 9252350612, Anushka Mody, 80\\r\\n2016-05-07, 9389644210, Brahma Swamy, 220\\r\\n2016-05-07, 9153022424, Hastin Mangal, 180\\r\\n2016-05-07, 9920950009, Rohan Sarma, 160\\r\\n2016-05-07, 9534474777, Daeva Tata, 230\\r\\n2016-05-07, 9359394987, Tarun Mapkar, 260\\r\\n2016-05-07, 9969345730, Kavi Edwin, 100\\r\\n2016-05-08, 9389644210, Brahma Swamy, 130\\r\\n2016-05-08, 9389644210, Brahma Swamy, 120\\r\\n2016-05-08, 9504662177, Tara Menon, 220\\r\\n2016-05-08, 9455622241, Shankara Narasimhan, 150\\r\\n2016-05-08, 9389644210, Brahma Swamy, 90\\r\\n2016-05-08, 9236367267, Takshaka Sandal, 110\\r\\n2016-05-08, 9330107696, Nipa Naidu, 70\\r\\n2016-05-08, 9927277067, Ranjan Khare, 180\\r\\n2016-05-08, 9140356318, Ballari Upadhyay, 270\\r\\n2016-05-08, 9389644210, Brahma Swamy, 70\\r\\n2016-05-08, 9518195948, Indra Chaudry, 180\\r\\n2016-05-08, 9976945538, Amitabha Kothari, 270\\r\\n2016-05-08, 9534474777, Daeva Tata, 210\\r\\n2016-05-08, 9504662177, Tara Menon, 210\\r\\n2016-05-08, 9293117791, Kumara Nayak, 200\\r\\n2016-05-08, 9293117791, Kumara Nayak, 140\\r\\n2016-05-08, 9248936762, Arpana Raja, 110\\r\\n2016-05-08, 9960294002, Mitra Gounder, 240\\r\\n2016-05-08, 9150159527, Leya Sankaran, 140\\r\\n2016-05-08, 9236367267, Takshaka Sandal, 250\\r\\n2016-05-09, 9732082404, Kali Chaudry, 100\\r\\n2016-05-09, 9521737322, Riddhi Nair, 140\\r\\n2016-05-09, 9293117791, Kumara Nayak, 190\\r\\n2016-05-09, 9590146908, Sachi Loliyekar, 150\\r\\n2016-05-09, 9688156631, Sahan Oak, 220\\r\\n2016-05-09, 9895408016, Mukul Krishna, 230\\r\\n2016-05-09, 9261697610, Niloufer Handa, 130\\r\\n2016-05-09, 9927277067, Ranjan Khare, 170\\r\\n2016-05-09, 9640338121, Brahma Swamy, 230\\r\\n2016-05-09, 9485132704, Sohalia Das, 250\\r\\n2016-05-09, 9330107696, Nipa Naidu, 240\\r\\n2016-05-09, 9389644210, Brahma Swamy, 180\\r\\n2016-05-09, 9389644210, Brahma Swamy, 210'"
      ]
     },
     "execution_count": 2,
     "metadata": {},
     "output_type": "execute_result"
    }
   ],
   "source": [
    "data"
   ]
  },
  {
   "cell_type": "code",
   "execution_count": 3,
   "metadata": {
    "collapsed": false
   },
   "outputs": [],
   "source": [
    "data=data.split('\\n')"
   ]
  },
  {
   "cell_type": "code",
   "execution_count": 60,
   "metadata": {
    "collapsed": false
   },
   "outputs": [
    {
     "data": {
      "text/plain": [
       "['Date, Phone, Named, Amount\\r',\n",
       " '2016-04-29, 9455622241, Shankara Narasimhan, 260\\r',\n",
       " '2016-04-29, 9597628723, Sulya Gupta, 90\\r',\n",
       " '2016-04-29, 9640338121, Brahma Swamy, 80\\r',\n",
       " '2016-04-29, 9383568793, Vaibhav Mulye, 240\\r',\n",
       " '2016-04-29, 9455622241, Shankara Narasimhan, 230\\r',\n",
       " '2016-04-29, 9521737322, Riddhi Nair, 70\\r',\n",
       " '2016-04-29, 9389644210, Brahma Swamy, 80\\r',\n",
       " '2016-04-29, 9603660688, Dhenuka Dhawan, 250\\r',\n",
       " '2016-04-29, 9451926724, Sahan Sibal, 260\\r',\n",
       " '2016-04-29, 9699939066, Haripriya Nayak, 270\\r',\n",
       " '2016-04-29, 9590146908, Sachi Loliyekar, 110\\r',\n",
       " '2016-04-29, 9389644210, Brahma Swamy, 100\\r',\n",
       " '2016-04-29, 9640338121, Brahma Swamy, 240\\r',\n",
       " '2016-04-29, 9236367267, Takshaka Sandal, 70\\r',\n",
       " '2016-04-30, 9969345730, Kavi Edwin, 210\\r',\n",
       " '2016-04-30, 9389644210, Brahma Swamy, 280\\r',\n",
       " '2016-04-30, 9971276037, Pramlocha Comar, 210\\r',\n",
       " '2016-04-30, 9241664018, Utathya Ghate, 260\\r',\n",
       " '2016-04-30, 9248936762, Arpana Raja, 260\\r',\n",
       " '2016-04-30, 9640338121, Brahma Swamy, 200\\r',\n",
       " '2016-04-30, 9895408016, Mukul Krishna, 180\\r',\n",
       " '2016-04-30, 9241664018, Utathya Ghate, 260\\r',\n",
       " '2016-04-30, 9920950009, Rohan Sarma, 110\\r',\n",
       " '2016-04-30, 9820224845, Tanika Philip, 90\\r',\n",
       " '2016-04-30, 9383568793, Vaibhav Mulye, 200\\r',\n",
       " '2016-04-30, 9732082404, Kali Chaudry, 290\\r',\n",
       " '2016-04-30, 9534474777, Daeva Tata, 70\\r',\n",
       " '2016-05-01, 9389644210, Brahma Swamy, 160\\r',\n",
       " '2016-05-01, 9572464275, Salmalin Mehta, 100\\r',\n",
       " '2016-05-01, 9688156631, Sahan Oak, 200\\r',\n",
       " '2016-05-01, 9236367267, Takshaka Sandal, 250\\r',\n",
       " '2016-05-01, 9979209995, Atman Mathur, 140\\r',\n",
       " '2016-05-01, 9521737322, Riddhi Nair, 140\\r',\n",
       " '2016-05-01, 9265205814, Daeva Peri, 180\\r',\n",
       " '2016-05-01, 9267357082, Muni Wasgare, 210\\r',\n",
       " '2016-05-01, 9267357082, Muni Wasgare, 290\\r',\n",
       " '2016-05-01, 9590146908, Sachi Loliyekar, 190\\r',\n",
       " '2016-05-01, 9389644210, Brahma Swamy, 290\\r',\n",
       " '2016-05-01, 9241664018, Utathya Ghate, 180\\r',\n",
       " '2016-05-02, 9971276037, Pramlocha Comar, 80\\r',\n",
       " '2016-05-02, 9920950009, Rohan Sarma, 140\\r',\n",
       " '2016-05-02, 9705384480, Latif Chia, 70\\r',\n",
       " '2016-05-02, 9252350612, Anushka Mody, 150\\r',\n",
       " '2016-05-02, 9688156631, Sahan Oak, 290\\r',\n",
       " '2016-05-02, 9359394987, Tarun Mapkar, 260\\r',\n",
       " '2016-05-02, 9747425720, Markandeya Barad, 100\\r',\n",
       " '2016-05-02, 9389644210, Brahma Swamy, 180\\r',\n",
       " '2016-05-02, 9699939066, Haripriya Nayak, 110\\r',\n",
       " '2016-05-02, 9590146908, Sachi Loliyekar, 220\\r',\n",
       " '2016-05-02, 9820224845, Tanika Philip, 220\\r',\n",
       " '2016-05-02, 9747425720, Markandeya Barad, 90\\r',\n",
       " '2016-05-03, 9910042819, Shanti Bajwa, 100\\r',\n",
       " '2016-05-03, 9518195948, Indra Chaudry, 110\\r',\n",
       " '2016-05-03, 9389644210, Brahma Swamy, 80\\r',\n",
       " '2016-05-03, 9236367267, Takshaka Sandal, 100\\r',\n",
       " '2016-05-03, 9640338121, Brahma Swamy, 100\\r',\n",
       " '2016-05-03, 9389644210, Brahma Swamy, 120\\r',\n",
       " '2016-05-03, 9453085874, Manu Oza, 120\\r',\n",
       " '2016-05-03, 9976945538, Amitabha Kothari, 270\\r',\n",
       " '2016-05-03, 9910042819, Shanti Bajwa, 280\\r',\n",
       " '2016-05-03, 9389644210, Brahma Swamy, 200\\r',\n",
       " '2016-05-03, 9405883814, Gauri Som, 220\\r',\n",
       " '2016-05-03, 9252350612, Anushka Mody, 170\\r',\n",
       " '2016-05-04, 9453085874, Manu Oza, 120\\r',\n",
       " '2016-05-04, 9640338121, Brahma Swamy, 150\\r',\n",
       " '2016-05-04, 9927277067, Ranjan Khare, 80\\r',\n",
       " '2016-05-04, 9910042819, Shanti Bajwa, 250\\r',\n",
       " '2016-05-04, 9389644210, Brahma Swamy, 200\\r',\n",
       " '2016-05-04, 9293117791, Kumara Nayak, 250\\r',\n",
       " '2016-05-04, 9976945538, Amitabha Kothari, 110\\r',\n",
       " '2016-05-04, 9518195948, Indra Chaudry, 200\\r',\n",
       " '2016-05-04, 9518195948, Indra Chaudry, 130\\r',\n",
       " '2016-05-04, 9389644210, Brahma Swamy, 140\\r',\n",
       " '2016-05-04, 9521737322, Riddhi Nair, 120\\r',\n",
       " '2016-05-04, 9920950009, Rohan Sarma, 120\\r',\n",
       " '2016-05-04, 9597628723, Sulya Gupta, 140\\r',\n",
       " '2016-05-04, 9534474777, Daeva Tata, 70\\r',\n",
       " '2016-05-04, 9009381182, Mira Reddy, 240\\r',\n",
       " '2016-05-04, 9009381182, Mira Reddy, 160\\r',\n",
       " '2016-05-04, 9236367267, Takshaka Sandal, 150\\r',\n",
       " '2016-05-04, 9265205814, Daeva Peri, 180\\r',\n",
       " '2016-05-05, 9451926724, Sahan Sibal, 170\\r',\n",
       " '2016-05-05, 9504662177, Tara Menon, 230\\r',\n",
       " '2016-05-05, 9455622241, Shankara Narasimhan, 200\\r',\n",
       " '2016-05-05, 9927277067, Ranjan Khare, 110\\r',\n",
       " '2016-05-05, 9521737322, Riddhi Nair, 90\\r',\n",
       " '2016-05-05, 9252350612, Anushka Mody, 120\\r',\n",
       " '2016-05-05, 9699939066, Haripriya Nayak, 70\\r',\n",
       " '2016-05-05, 9150159527, Leya Sankaran, 270\\r',\n",
       " '2016-05-05, 9389644210, Brahma Swamy, 240\\r',\n",
       " '2016-05-05, 9733555024, Nirav Khalsa, 110\\r',\n",
       " '2016-05-05, 9236367267, Takshaka Sandal, 200\\r',\n",
       " '2016-05-05, 9241664018, Utathya Ghate, 260\\r',\n",
       " '2016-05-06, 9455622241, Shankara Narasimhan, 210\\r',\n",
       " '2016-05-06, 9389644210, Brahma Swamy, 250\\r',\n",
       " '2016-05-06, 9705384480, Latif Chia, 160\\r',\n",
       " '2016-05-06, 9359394987, Tarun Mapkar, 100\\r',\n",
       " '2016-05-06, 9688156631, Sahan Oak, 210\\r',\n",
       " '2016-05-06, 9688156631, Sahan Oak, 280\\r',\n",
       " '2016-05-06, 9389644210, Brahma Swamy, 110\\r',\n",
       " '2016-05-06, 9699939066, Haripriya Nayak, 130\\r',\n",
       " '2016-05-06, 9389644210, Brahma Swamy, 110\\r',\n",
       " '2016-05-06, 9389644210, Brahma Swamy, 90\\r',\n",
       " '2016-05-06, 9597628723, Sulya Gupta, 190\\r',\n",
       " '2016-05-06, 9521737322, Riddhi Nair, 140\\r',\n",
       " '2016-05-06, 9451926724, Sahan Sibal, 230\\r',\n",
       " '2016-05-06, 9403313898, Adri Dave, 210\\r',\n",
       " '2016-05-06, 9895408016, Mukul Krishna, 240\\r',\n",
       " '2016-05-06, 9504662177, Tara Menon, 140\\r',\n",
       " '2016-05-07, 9389644210, Brahma Swamy, 140\\r',\n",
       " '2016-05-07, 9699939066, Haripriya Nayak, 280\\r',\n",
       " '2016-05-07, 9732082404, Kali Chaudry, 130\\r',\n",
       " '2016-05-07, 9150159527, Leya Sankaran, 250\\r',\n",
       " '2016-05-07, 9820224845, Tanika Philip, 290\\r',\n",
       " '2016-05-07, 9248936762, Arpana Raja, 260\\r',\n",
       " '2016-05-07, 9293117791, Kumara Nayak, 200\\r',\n",
       " '2016-05-07, 9640338121, Brahma Swamy, 200\\r',\n",
       " '2016-05-07, 9732082404, Kali Chaudry, 280\\r',\n",
       " '2016-05-07, 9265205814, Daeva Peri, 70\\r',\n",
       " '2016-05-07, 9534474777, Daeva Tata, 160\\r',\n",
       " '2016-05-07, 9252350612, Anushka Mody, 80\\r',\n",
       " '2016-05-07, 9389644210, Brahma Swamy, 220\\r',\n",
       " '2016-05-07, 9153022424, Hastin Mangal, 180\\r',\n",
       " '2016-05-07, 9920950009, Rohan Sarma, 160\\r',\n",
       " '2016-05-07, 9534474777, Daeva Tata, 230\\r',\n",
       " '2016-05-07, 9359394987, Tarun Mapkar, 260\\r',\n",
       " '2016-05-07, 9969345730, Kavi Edwin, 100\\r',\n",
       " '2016-05-08, 9389644210, Brahma Swamy, 130\\r',\n",
       " '2016-05-08, 9389644210, Brahma Swamy, 120\\r',\n",
       " '2016-05-08, 9504662177, Tara Menon, 220\\r',\n",
       " '2016-05-08, 9455622241, Shankara Narasimhan, 150\\r',\n",
       " '2016-05-08, 9389644210, Brahma Swamy, 90\\r',\n",
       " '2016-05-08, 9236367267, Takshaka Sandal, 110\\r',\n",
       " '2016-05-08, 9330107696, Nipa Naidu, 70\\r',\n",
       " '2016-05-08, 9927277067, Ranjan Khare, 180\\r',\n",
       " '2016-05-08, 9140356318, Ballari Upadhyay, 270\\r',\n",
       " '2016-05-08, 9389644210, Brahma Swamy, 70\\r',\n",
       " '2016-05-08, 9518195948, Indra Chaudry, 180\\r',\n",
       " '2016-05-08, 9976945538, Amitabha Kothari, 270\\r',\n",
       " '2016-05-08, 9534474777, Daeva Tata, 210\\r',\n",
       " '2016-05-08, 9504662177, Tara Menon, 210\\r',\n",
       " '2016-05-08, 9293117791, Kumara Nayak, 200\\r',\n",
       " '2016-05-08, 9293117791, Kumara Nayak, 140\\r',\n",
       " '2016-05-08, 9248936762, Arpana Raja, 110\\r',\n",
       " '2016-05-08, 9960294002, Mitra Gounder, 240\\r',\n",
       " '2016-05-08, 9150159527, Leya Sankaran, 140\\r',\n",
       " '2016-05-08, 9236367267, Takshaka Sandal, 250\\r',\n",
       " '2016-05-09, 9732082404, Kali Chaudry, 100\\r',\n",
       " '2016-05-09, 9521737322, Riddhi Nair, 140\\r',\n",
       " '2016-05-09, 9293117791, Kumara Nayak, 190\\r',\n",
       " '2016-05-09, 9590146908, Sachi Loliyekar, 150\\r',\n",
       " '2016-05-09, 9688156631, Sahan Oak, 220\\r',\n",
       " '2016-05-09, 9895408016, Mukul Krishna, 230\\r',\n",
       " '2016-05-09, 9261697610, Niloufer Handa, 130\\r',\n",
       " '2016-05-09, 9927277067, Ranjan Khare, 170\\r',\n",
       " '2016-05-09, 9640338121, Brahma Swamy, 230\\r',\n",
       " '2016-05-09, 9485132704, Sohalia Das, 250\\r',\n",
       " '2016-05-09, 9330107696, Nipa Naidu, 240\\r',\n",
       " '2016-05-09, 9389644210, Brahma Swamy, 180\\r',\n",
       " '2016-05-09, 9389644210, Brahma Swamy, 210']"
      ]
     },
     "execution_count": 60,
     "metadata": {},
     "output_type": "execute_result"
    }
   ],
   "source": [
    "data"
   ]
  },
  {
   "cell_type": "code",
   "execution_count": 61,
   "metadata": {
    "collapsed": true
   },
   "outputs": [],
   "source": [
    "no_of_orders=len(data)-1"
   ]
  },
  {
   "cell_type": "code",
   "execution_count": 18,
   "metadata": {
    "collapsed": false
   },
   "outputs": [
    {
     "data": {
      "text/plain": [
       "161"
      ]
     },
     "execution_count": 18,
     "metadata": {},
     "output_type": "execute_result"
    }
   ],
   "source": [
    "no_of_orders"
   ]
  },
  {
   "cell_type": "code",
   "execution_count": 4,
   "metadata": {
    "collapsed": false
   },
   "outputs": [],
   "source": [
    "for i in range(len(data)):\n",
    "    data[i]=data[i].split(', ')"
   ]
  },
  {
   "cell_type": "code",
   "execution_count": 5,
   "metadata": {
    "collapsed": false
   },
   "outputs": [
    {
     "data": {
      "text/plain": [
       "[['Date', 'Phone', 'Named', 'Amount\\r'],\n",
       " ['2016-04-29', '9455622241', 'Shankara Narasimhan', '260\\r'],\n",
       " ['2016-04-29', '9597628723', 'Sulya Gupta', '90\\r'],\n",
       " ['2016-04-29', '9640338121', 'Brahma Swamy', '80\\r'],\n",
       " ['2016-04-29', '9383568793', 'Vaibhav Mulye', '240\\r'],\n",
       " ['2016-04-29', '9455622241', 'Shankara Narasimhan', '230\\r'],\n",
       " ['2016-04-29', '9521737322', 'Riddhi Nair', '70\\r'],\n",
       " ['2016-04-29', '9389644210', 'Brahma Swamy', '80\\r'],\n",
       " ['2016-04-29', '9603660688', 'Dhenuka Dhawan', '250\\r'],\n",
       " ['2016-04-29', '9451926724', 'Sahan Sibal', '260\\r'],\n",
       " ['2016-04-29', '9699939066', 'Haripriya Nayak', '270\\r'],\n",
       " ['2016-04-29', '9590146908', 'Sachi Loliyekar', '110\\r'],\n",
       " ['2016-04-29', '9389644210', 'Brahma Swamy', '100\\r'],\n",
       " ['2016-04-29', '9640338121', 'Brahma Swamy', '240\\r'],\n",
       " ['2016-04-29', '9236367267', 'Takshaka Sandal', '70\\r'],\n",
       " ['2016-04-30', '9969345730', 'Kavi Edwin', '210\\r'],\n",
       " ['2016-04-30', '9389644210', 'Brahma Swamy', '280\\r'],\n",
       " ['2016-04-30', '9971276037', 'Pramlocha Comar', '210\\r'],\n",
       " ['2016-04-30', '9241664018', 'Utathya Ghate', '260\\r'],\n",
       " ['2016-04-30', '9248936762', 'Arpana Raja', '260\\r'],\n",
       " ['2016-04-30', '9640338121', 'Brahma Swamy', '200\\r'],\n",
       " ['2016-04-30', '9895408016', 'Mukul Krishna', '180\\r'],\n",
       " ['2016-04-30', '9241664018', 'Utathya Ghate', '260\\r'],\n",
       " ['2016-04-30', '9920950009', 'Rohan Sarma', '110\\r'],\n",
       " ['2016-04-30', '9820224845', 'Tanika Philip', '90\\r'],\n",
       " ['2016-04-30', '9383568793', 'Vaibhav Mulye', '200\\r'],\n",
       " ['2016-04-30', '9732082404', 'Kali Chaudry', '290\\r'],\n",
       " ['2016-04-30', '9534474777', 'Daeva Tata', '70\\r'],\n",
       " ['2016-05-01', '9389644210', 'Brahma Swamy', '160\\r'],\n",
       " ['2016-05-01', '9572464275', 'Salmalin Mehta', '100\\r'],\n",
       " ['2016-05-01', '9688156631', 'Sahan Oak', '200\\r'],\n",
       " ['2016-05-01', '9236367267', 'Takshaka Sandal', '250\\r'],\n",
       " ['2016-05-01', '9979209995', 'Atman Mathur', '140\\r'],\n",
       " ['2016-05-01', '9521737322', 'Riddhi Nair', '140\\r'],\n",
       " ['2016-05-01', '9265205814', 'Daeva Peri', '180\\r'],\n",
       " ['2016-05-01', '9267357082', 'Muni Wasgare', '210\\r'],\n",
       " ['2016-05-01', '9267357082', 'Muni Wasgare', '290\\r'],\n",
       " ['2016-05-01', '9590146908', 'Sachi Loliyekar', '190\\r'],\n",
       " ['2016-05-01', '9389644210', 'Brahma Swamy', '290\\r'],\n",
       " ['2016-05-01', '9241664018', 'Utathya Ghate', '180\\r'],\n",
       " ['2016-05-02', '9971276037', 'Pramlocha Comar', '80\\r'],\n",
       " ['2016-05-02', '9920950009', 'Rohan Sarma', '140\\r'],\n",
       " ['2016-05-02', '9705384480', 'Latif Chia', '70\\r'],\n",
       " ['2016-05-02', '9252350612', 'Anushka Mody', '150\\r'],\n",
       " ['2016-05-02', '9688156631', 'Sahan Oak', '290\\r'],\n",
       " ['2016-05-02', '9359394987', 'Tarun Mapkar', '260\\r'],\n",
       " ['2016-05-02', '9747425720', 'Markandeya Barad', '100\\r'],\n",
       " ['2016-05-02', '9389644210', 'Brahma Swamy', '180\\r'],\n",
       " ['2016-05-02', '9699939066', 'Haripriya Nayak', '110\\r'],\n",
       " ['2016-05-02', '9590146908', 'Sachi Loliyekar', '220\\r'],\n",
       " ['2016-05-02', '9820224845', 'Tanika Philip', '220\\r'],\n",
       " ['2016-05-02', '9747425720', 'Markandeya Barad', '90\\r'],\n",
       " ['2016-05-03', '9910042819', 'Shanti Bajwa', '100\\r'],\n",
       " ['2016-05-03', '9518195948', 'Indra Chaudry', '110\\r'],\n",
       " ['2016-05-03', '9389644210', 'Brahma Swamy', '80\\r'],\n",
       " ['2016-05-03', '9236367267', 'Takshaka Sandal', '100\\r'],\n",
       " ['2016-05-03', '9640338121', 'Brahma Swamy', '100\\r'],\n",
       " ['2016-05-03', '9389644210', 'Brahma Swamy', '120\\r'],\n",
       " ['2016-05-03', '9453085874', 'Manu Oza', '120\\r'],\n",
       " ['2016-05-03', '9976945538', 'Amitabha Kothari', '270\\r'],\n",
       " ['2016-05-03', '9910042819', 'Shanti Bajwa', '280\\r'],\n",
       " ['2016-05-03', '9389644210', 'Brahma Swamy', '200\\r'],\n",
       " ['2016-05-03', '9405883814', 'Gauri Som', '220\\r'],\n",
       " ['2016-05-03', '9252350612', 'Anushka Mody', '170\\r'],\n",
       " ['2016-05-04', '9453085874', 'Manu Oza', '120\\r'],\n",
       " ['2016-05-04', '9640338121', 'Brahma Swamy', '150\\r'],\n",
       " ['2016-05-04', '9927277067', 'Ranjan Khare', '80\\r'],\n",
       " ['2016-05-04', '9910042819', 'Shanti Bajwa', '250\\r'],\n",
       " ['2016-05-04', '9389644210', 'Brahma Swamy', '200\\r'],\n",
       " ['2016-05-04', '9293117791', 'Kumara Nayak', '250\\r'],\n",
       " ['2016-05-04', '9976945538', 'Amitabha Kothari', '110\\r'],\n",
       " ['2016-05-04', '9518195948', 'Indra Chaudry', '200\\r'],\n",
       " ['2016-05-04', '9518195948', 'Indra Chaudry', '130\\r'],\n",
       " ['2016-05-04', '9389644210', 'Brahma Swamy', '140\\r'],\n",
       " ['2016-05-04', '9521737322', 'Riddhi Nair', '120\\r'],\n",
       " ['2016-05-04', '9920950009', 'Rohan Sarma', '120\\r'],\n",
       " ['2016-05-04', '9597628723', 'Sulya Gupta', '140\\r'],\n",
       " ['2016-05-04', '9534474777', 'Daeva Tata', '70\\r'],\n",
       " ['2016-05-04', '9009381182', 'Mira Reddy', '240\\r'],\n",
       " ['2016-05-04', '9009381182', 'Mira Reddy', '160\\r'],\n",
       " ['2016-05-04', '9236367267', 'Takshaka Sandal', '150\\r'],\n",
       " ['2016-05-04', '9265205814', 'Daeva Peri', '180\\r'],\n",
       " ['2016-05-05', '9451926724', 'Sahan Sibal', '170\\r'],\n",
       " ['2016-05-05', '9504662177', 'Tara Menon', '230\\r'],\n",
       " ['2016-05-05', '9455622241', 'Shankara Narasimhan', '200\\r'],\n",
       " ['2016-05-05', '9927277067', 'Ranjan Khare', '110\\r'],\n",
       " ['2016-05-05', '9521737322', 'Riddhi Nair', '90\\r'],\n",
       " ['2016-05-05', '9252350612', 'Anushka Mody', '120\\r'],\n",
       " ['2016-05-05', '9699939066', 'Haripriya Nayak', '70\\r'],\n",
       " ['2016-05-05', '9150159527', 'Leya Sankaran', '270\\r'],\n",
       " ['2016-05-05', '9389644210', 'Brahma Swamy', '240\\r'],\n",
       " ['2016-05-05', '9733555024', 'Nirav Khalsa', '110\\r'],\n",
       " ['2016-05-05', '9236367267', 'Takshaka Sandal', '200\\r'],\n",
       " ['2016-05-05', '9241664018', 'Utathya Ghate', '260\\r'],\n",
       " ['2016-05-06', '9455622241', 'Shankara Narasimhan', '210\\r'],\n",
       " ['2016-05-06', '9389644210', 'Brahma Swamy', '250\\r'],\n",
       " ['2016-05-06', '9705384480', 'Latif Chia', '160\\r'],\n",
       " ['2016-05-06', '9359394987', 'Tarun Mapkar', '100\\r'],\n",
       " ['2016-05-06', '9688156631', 'Sahan Oak', '210\\r'],\n",
       " ['2016-05-06', '9688156631', 'Sahan Oak', '280\\r'],\n",
       " ['2016-05-06', '9389644210', 'Brahma Swamy', '110\\r'],\n",
       " ['2016-05-06', '9699939066', 'Haripriya Nayak', '130\\r'],\n",
       " ['2016-05-06', '9389644210', 'Brahma Swamy', '110\\r'],\n",
       " ['2016-05-06', '9389644210', 'Brahma Swamy', '90\\r'],\n",
       " ['2016-05-06', '9597628723', 'Sulya Gupta', '190\\r'],\n",
       " ['2016-05-06', '9521737322', 'Riddhi Nair', '140\\r'],\n",
       " ['2016-05-06', '9451926724', 'Sahan Sibal', '230\\r'],\n",
       " ['2016-05-06', '9403313898', 'Adri Dave', '210\\r'],\n",
       " ['2016-05-06', '9895408016', 'Mukul Krishna', '240\\r'],\n",
       " ['2016-05-06', '9504662177', 'Tara Menon', '140\\r'],\n",
       " ['2016-05-07', '9389644210', 'Brahma Swamy', '140\\r'],\n",
       " ['2016-05-07', '9699939066', 'Haripriya Nayak', '280\\r'],\n",
       " ['2016-05-07', '9732082404', 'Kali Chaudry', '130\\r'],\n",
       " ['2016-05-07', '9150159527', 'Leya Sankaran', '250\\r'],\n",
       " ['2016-05-07', '9820224845', 'Tanika Philip', '290\\r'],\n",
       " ['2016-05-07', '9248936762', 'Arpana Raja', '260\\r'],\n",
       " ['2016-05-07', '9293117791', 'Kumara Nayak', '200\\r'],\n",
       " ['2016-05-07', '9640338121', 'Brahma Swamy', '200\\r'],\n",
       " ['2016-05-07', '9732082404', 'Kali Chaudry', '280\\r'],\n",
       " ['2016-05-07', '9265205814', 'Daeva Peri', '70\\r'],\n",
       " ['2016-05-07', '9534474777', 'Daeva Tata', '160\\r'],\n",
       " ['2016-05-07', '9252350612', 'Anushka Mody', '80\\r'],\n",
       " ['2016-05-07', '9389644210', 'Brahma Swamy', '220\\r'],\n",
       " ['2016-05-07', '9153022424', 'Hastin Mangal', '180\\r'],\n",
       " ['2016-05-07', '9920950009', 'Rohan Sarma', '160\\r'],\n",
       " ['2016-05-07', '9534474777', 'Daeva Tata', '230\\r'],\n",
       " ['2016-05-07', '9359394987', 'Tarun Mapkar', '260\\r'],\n",
       " ['2016-05-07', '9969345730', 'Kavi Edwin', '100\\r'],\n",
       " ['2016-05-08', '9389644210', 'Brahma Swamy', '130\\r'],\n",
       " ['2016-05-08', '9389644210', 'Brahma Swamy', '120\\r'],\n",
       " ['2016-05-08', '9504662177', 'Tara Menon', '220\\r'],\n",
       " ['2016-05-08', '9455622241', 'Shankara Narasimhan', '150\\r'],\n",
       " ['2016-05-08', '9389644210', 'Brahma Swamy', '90\\r'],\n",
       " ['2016-05-08', '9236367267', 'Takshaka Sandal', '110\\r'],\n",
       " ['2016-05-08', '9330107696', 'Nipa Naidu', '70\\r'],\n",
       " ['2016-05-08', '9927277067', 'Ranjan Khare', '180\\r'],\n",
       " ['2016-05-08', '9140356318', 'Ballari Upadhyay', '270\\r'],\n",
       " ['2016-05-08', '9389644210', 'Brahma Swamy', '70\\r'],\n",
       " ['2016-05-08', '9518195948', 'Indra Chaudry', '180\\r'],\n",
       " ['2016-05-08', '9976945538', 'Amitabha Kothari', '270\\r'],\n",
       " ['2016-05-08', '9534474777', 'Daeva Tata', '210\\r'],\n",
       " ['2016-05-08', '9504662177', 'Tara Menon', '210\\r'],\n",
       " ['2016-05-08', '9293117791', 'Kumara Nayak', '200\\r'],\n",
       " ['2016-05-08', '9293117791', 'Kumara Nayak', '140\\r'],\n",
       " ['2016-05-08', '9248936762', 'Arpana Raja', '110\\r'],\n",
       " ['2016-05-08', '9960294002', 'Mitra Gounder', '240\\r'],\n",
       " ['2016-05-08', '9150159527', 'Leya Sankaran', '140\\r'],\n",
       " ['2016-05-08', '9236367267', 'Takshaka Sandal', '250\\r'],\n",
       " ['2016-05-09', '9732082404', 'Kali Chaudry', '100\\r'],\n",
       " ['2016-05-09', '9521737322', 'Riddhi Nair', '140\\r'],\n",
       " ['2016-05-09', '9293117791', 'Kumara Nayak', '190\\r'],\n",
       " ['2016-05-09', '9590146908', 'Sachi Loliyekar', '150\\r'],\n",
       " ['2016-05-09', '9688156631', 'Sahan Oak', '220\\r'],\n",
       " ['2016-05-09', '9895408016', 'Mukul Krishna', '230\\r'],\n",
       " ['2016-05-09', '9261697610', 'Niloufer Handa', '130\\r'],\n",
       " ['2016-05-09', '9927277067', 'Ranjan Khare', '170\\r'],\n",
       " ['2016-05-09', '9640338121', 'Brahma Swamy', '230\\r'],\n",
       " ['2016-05-09', '9485132704', 'Sohalia Das', '250\\r'],\n",
       " ['2016-05-09', '9330107696', 'Nipa Naidu', '240\\r'],\n",
       " ['2016-05-09', '9389644210', 'Brahma Swamy', '180\\r'],\n",
       " ['2016-05-09', '9389644210', 'Brahma Swamy', '210']]"
      ]
     },
     "execution_count": 5,
     "metadata": {},
     "output_type": "execute_result"
    }
   ],
   "source": [
    "data"
   ]
  },
  {
   "cell_type": "code",
   "execution_count": 6,
   "metadata": {
    "collapsed": true
   },
   "outputs": [],
   "source": [
    "total_amount=0\n",
    "customers=[]"
   ]
  },
  {
   "cell_type": "code",
   "execution_count": 7,
   "metadata": {
    "collapsed": false
   },
   "outputs": [],
   "source": [
    "for i in range(0,len(data)):\n",
    "    if i==0:\n",
    "        continue\n",
    "    else:\n",
    "        total_amount+=float(data[i][3])\n",
    "        customers.append(data[i][2])"
   ]
  },
  {
   "cell_type": "code",
   "execution_count": 66,
   "metadata": {
    "collapsed": false
   },
   "outputs": [
    {
     "data": {
      "text/plain": [
       "260.0"
      ]
     },
     "execution_count": 66,
     "metadata": {},
     "output_type": "execute_result"
    }
   ],
   "source": [
    "float(data[1][3])"
   ]
  },
  {
   "cell_type": "code",
   "execution_count": 67,
   "metadata": {
    "collapsed": false
   },
   "outputs": [
    {
     "data": {
      "text/plain": [
       "28050.0"
      ]
     },
     "execution_count": 67,
     "metadata": {},
     "output_type": "execute_result"
    }
   ],
   "source": [
    "total_amount"
   ]
  },
  {
   "cell_type": "code",
   "execution_count": 8,
   "metadata": {
    "collapsed": false
   },
   "outputs": [
    {
     "data": {
      "text/plain": [
       "['Shankara Narasimhan',\n",
       " 'Sulya Gupta',\n",
       " 'Brahma Swamy',\n",
       " 'Vaibhav Mulye',\n",
       " 'Shankara Narasimhan',\n",
       " 'Riddhi Nair',\n",
       " 'Brahma Swamy',\n",
       " 'Dhenuka Dhawan',\n",
       " 'Sahan Sibal',\n",
       " 'Haripriya Nayak',\n",
       " 'Sachi Loliyekar',\n",
       " 'Brahma Swamy',\n",
       " 'Brahma Swamy',\n",
       " 'Takshaka Sandal',\n",
       " 'Kavi Edwin',\n",
       " 'Brahma Swamy',\n",
       " 'Pramlocha Comar',\n",
       " 'Utathya Ghate',\n",
       " 'Arpana Raja',\n",
       " 'Brahma Swamy',\n",
       " 'Mukul Krishna',\n",
       " 'Utathya Ghate',\n",
       " 'Rohan Sarma',\n",
       " 'Tanika Philip',\n",
       " 'Vaibhav Mulye',\n",
       " 'Kali Chaudry',\n",
       " 'Daeva Tata',\n",
       " 'Brahma Swamy',\n",
       " 'Salmalin Mehta',\n",
       " 'Sahan Oak',\n",
       " 'Takshaka Sandal',\n",
       " 'Atman Mathur',\n",
       " 'Riddhi Nair',\n",
       " 'Daeva Peri',\n",
       " 'Muni Wasgare',\n",
       " 'Muni Wasgare',\n",
       " 'Sachi Loliyekar',\n",
       " 'Brahma Swamy',\n",
       " 'Utathya Ghate',\n",
       " 'Pramlocha Comar',\n",
       " 'Rohan Sarma',\n",
       " 'Latif Chia',\n",
       " 'Anushka Mody',\n",
       " 'Sahan Oak',\n",
       " 'Tarun Mapkar',\n",
       " 'Markandeya Barad',\n",
       " 'Brahma Swamy',\n",
       " 'Haripriya Nayak',\n",
       " 'Sachi Loliyekar',\n",
       " 'Tanika Philip',\n",
       " 'Markandeya Barad',\n",
       " 'Shanti Bajwa',\n",
       " 'Indra Chaudry',\n",
       " 'Brahma Swamy',\n",
       " 'Takshaka Sandal',\n",
       " 'Brahma Swamy',\n",
       " 'Brahma Swamy',\n",
       " 'Manu Oza',\n",
       " 'Amitabha Kothari',\n",
       " 'Shanti Bajwa',\n",
       " 'Brahma Swamy',\n",
       " 'Gauri Som',\n",
       " 'Anushka Mody',\n",
       " 'Manu Oza',\n",
       " 'Brahma Swamy',\n",
       " 'Ranjan Khare',\n",
       " 'Shanti Bajwa',\n",
       " 'Brahma Swamy',\n",
       " 'Kumara Nayak',\n",
       " 'Amitabha Kothari',\n",
       " 'Indra Chaudry',\n",
       " 'Indra Chaudry',\n",
       " 'Brahma Swamy',\n",
       " 'Riddhi Nair',\n",
       " 'Rohan Sarma',\n",
       " 'Sulya Gupta',\n",
       " 'Daeva Tata',\n",
       " 'Mira Reddy',\n",
       " 'Mira Reddy',\n",
       " 'Takshaka Sandal',\n",
       " 'Daeva Peri',\n",
       " 'Sahan Sibal',\n",
       " 'Tara Menon',\n",
       " 'Shankara Narasimhan',\n",
       " 'Ranjan Khare',\n",
       " 'Riddhi Nair',\n",
       " 'Anushka Mody',\n",
       " 'Haripriya Nayak',\n",
       " 'Leya Sankaran',\n",
       " 'Brahma Swamy',\n",
       " 'Nirav Khalsa',\n",
       " 'Takshaka Sandal',\n",
       " 'Utathya Ghate',\n",
       " 'Shankara Narasimhan',\n",
       " 'Brahma Swamy',\n",
       " 'Latif Chia',\n",
       " 'Tarun Mapkar',\n",
       " 'Sahan Oak',\n",
       " 'Sahan Oak',\n",
       " 'Brahma Swamy',\n",
       " 'Haripriya Nayak',\n",
       " 'Brahma Swamy',\n",
       " 'Brahma Swamy',\n",
       " 'Sulya Gupta',\n",
       " 'Riddhi Nair',\n",
       " 'Sahan Sibal',\n",
       " 'Adri Dave',\n",
       " 'Mukul Krishna',\n",
       " 'Tara Menon',\n",
       " 'Brahma Swamy',\n",
       " 'Haripriya Nayak',\n",
       " 'Kali Chaudry',\n",
       " 'Leya Sankaran',\n",
       " 'Tanika Philip',\n",
       " 'Arpana Raja',\n",
       " 'Kumara Nayak',\n",
       " 'Brahma Swamy',\n",
       " 'Kali Chaudry',\n",
       " 'Daeva Peri',\n",
       " 'Daeva Tata',\n",
       " 'Anushka Mody',\n",
       " 'Brahma Swamy',\n",
       " 'Hastin Mangal',\n",
       " 'Rohan Sarma',\n",
       " 'Daeva Tata',\n",
       " 'Tarun Mapkar',\n",
       " 'Kavi Edwin',\n",
       " 'Brahma Swamy',\n",
       " 'Brahma Swamy',\n",
       " 'Tara Menon',\n",
       " 'Shankara Narasimhan',\n",
       " 'Brahma Swamy',\n",
       " 'Takshaka Sandal',\n",
       " 'Nipa Naidu',\n",
       " 'Ranjan Khare',\n",
       " 'Ballari Upadhyay',\n",
       " 'Brahma Swamy',\n",
       " 'Indra Chaudry',\n",
       " 'Amitabha Kothari',\n",
       " 'Daeva Tata',\n",
       " 'Tara Menon',\n",
       " 'Kumara Nayak',\n",
       " 'Kumara Nayak',\n",
       " 'Arpana Raja',\n",
       " 'Mitra Gounder',\n",
       " 'Leya Sankaran',\n",
       " 'Takshaka Sandal',\n",
       " 'Kali Chaudry',\n",
       " 'Riddhi Nair',\n",
       " 'Kumara Nayak',\n",
       " 'Sachi Loliyekar',\n",
       " 'Sahan Oak',\n",
       " 'Mukul Krishna',\n",
       " 'Niloufer Handa',\n",
       " 'Ranjan Khare',\n",
       " 'Brahma Swamy',\n",
       " 'Sohalia Das',\n",
       " 'Nipa Naidu',\n",
       " 'Brahma Swamy',\n",
       " 'Brahma Swamy']"
      ]
     },
     "execution_count": 8,
     "metadata": {},
     "output_type": "execute_result"
    }
   ],
   "source": [
    "customers"
   ]
  },
  {
   "cell_type": "code",
   "execution_count": 12,
   "metadata": {
    "collapsed": false
   },
   "outputs": [],
   "source": [
    "from collections import Counter"
   ]
  },
  {
   "cell_type": "code",
   "execution_count": 13,
   "metadata": {
    "collapsed": true
   },
   "outputs": [],
   "source": [
    "cnt=Counter()"
   ]
  },
  {
   "cell_type": "code",
   "execution_count": 15,
   "metadata": {
    "collapsed": false
   },
   "outputs": [],
   "source": [
    "for i in customers:\n",
    "    cnt[i]+=1"
   ]
  },
  {
   "cell_type": "code",
   "execution_count": 16,
   "metadata": {
    "collapsed": false
   },
   "outputs": [
    {
     "data": {
      "text/plain": [
       "Counter({'Adri Dave': 1,\n",
       "         'Amitabha Kothari': 3,\n",
       "         'Anushka Mody': 4,\n",
       "         'Arpana Raja': 3,\n",
       "         'Atman Mathur': 1,\n",
       "         'Ballari Upadhyay': 1,\n",
       "         'Brahma Swamy': 31,\n",
       "         'Daeva Peri': 3,\n",
       "         'Daeva Tata': 5,\n",
       "         'Dhenuka Dhawan': 1,\n",
       "         'Gauri Som': 1,\n",
       "         'Haripriya Nayak': 5,\n",
       "         'Hastin Mangal': 1,\n",
       "         'Indra Chaudry': 4,\n",
       "         'Kali Chaudry': 4,\n",
       "         'Kavi Edwin': 2,\n",
       "         'Kumara Nayak': 5,\n",
       "         'Latif Chia': 2,\n",
       "         'Leya Sankaran': 3,\n",
       "         'Manu Oza': 2,\n",
       "         'Markandeya Barad': 2,\n",
       "         'Mira Reddy': 2,\n",
       "         'Mitra Gounder': 1,\n",
       "         'Mukul Krishna': 3,\n",
       "         'Muni Wasgare': 2,\n",
       "         'Niloufer Handa': 1,\n",
       "         'Nipa Naidu': 2,\n",
       "         'Nirav Khalsa': 1,\n",
       "         'Pramlocha Comar': 2,\n",
       "         'Ranjan Khare': 4,\n",
       "         'Riddhi Nair': 6,\n",
       "         'Rohan Sarma': 4,\n",
       "         'Sachi Loliyekar': 4,\n",
       "         'Sahan Oak': 5,\n",
       "         'Sahan Sibal': 3,\n",
       "         'Salmalin Mehta': 1,\n",
       "         'Shankara Narasimhan': 5,\n",
       "         'Shanti Bajwa': 3,\n",
       "         'Sohalia Das': 1,\n",
       "         'Sulya Gupta': 3,\n",
       "         'Takshaka Sandal': 7,\n",
       "         'Tanika Philip': 3,\n",
       "         'Tara Menon': 4,\n",
       "         'Tarun Mapkar': 3,\n",
       "         'Utathya Ghate': 4,\n",
       "         'Vaibhav Mulye': 2})"
      ]
     },
     "execution_count": 16,
     "metadata": {},
     "output_type": "execute_result"
    }
   ],
   "source": [
    "cnt"
   ]
  },
  {
   "cell_type": "code",
   "execution_count": 17,
   "metadata": {
    "collapsed": false
   },
   "outputs": [
    {
     "data": {
      "text/plain": [
       "2"
      ]
     },
     "execution_count": 17,
     "metadata": {},
     "output_type": "execute_result"
    }
   ],
   "source": [
    "cnt['Vaibhav Mulye']"
   ]
  },
  {
   "cell_type": "code",
   "execution_count": 21,
   "metadata": {
    "collapsed": false
   },
   "outputs": [],
   "source": [
    "single_time_user=[]\n",
    "for i in cnt:\n",
    "    if cnt[i]==1:\n",
    "        single_time_user.append(i)        "
   ]
  },
  {
   "cell_type": "code",
   "execution_count": 22,
   "metadata": {
    "collapsed": false
   },
   "outputs": [
    {
     "data": {
      "text/plain": [
       "['Salmalin Mehta',\n",
       " 'Sohalia Das',\n",
       " 'Hastin Mangal',\n",
       " 'Adri Dave',\n",
       " 'Mitra Gounder',\n",
       " 'Gauri Som',\n",
       " 'Dhenuka Dhawan',\n",
       " 'Niloufer Handa',\n",
       " 'Atman Mathur',\n",
       " 'Ballari Upadhyay',\n",
       " 'Nirav Khalsa']"
      ]
     },
     "execution_count": 22,
     "metadata": {},
     "output_type": "execute_result"
    }
   ],
   "source": [
    "single_time_user"
   ]
  },
  {
   "cell_type": "code",
   "execution_count": 25,
   "metadata": {
    "collapsed": false
   },
   "outputs": [],
   "source": [
    "one,two,three,four,others=0,0,0,0,0\n",
    "for i in cnt:\n",
    "    if cnt[i]==1:\n",
    "        one+=1\n",
    "    elif cnt[i]==2:\n",
    "        cnt[i]==2\n",
    "        two+=1\n",
    "    elif cnt[i]==3:\n",
    "        three+=1\n",
    "    elif cnt[i]==4:\n",
    "        four+=1\n",
    "    else:\n",
    "        others+=1\n"
   ]
  },
  {
   "cell_type": "code",
   "execution_count": 26,
   "metadata": {
    "collapsed": false
   },
   "outputs": [
    {
     "data": {
      "text/plain": [
       "11"
      ]
     },
     "execution_count": 26,
     "metadata": {},
     "output_type": "execute_result"
    }
   ],
   "source": [
    "one"
   ]
  },
  {
   "cell_type": "code",
   "execution_count": 27,
   "metadata": {
    "collapsed": false
   },
   "outputs": [
    {
     "data": {
      "text/plain": [
       "9"
      ]
     },
     "execution_count": 27,
     "metadata": {},
     "output_type": "execute_result"
    }
   ],
   "source": [
    "two"
   ]
  },
  {
   "cell_type": "code",
   "execution_count": 28,
   "metadata": {
    "collapsed": false
   },
   "outputs": [
    {
     "data": {
      "text/plain": [
       "10"
      ]
     },
     "execution_count": 28,
     "metadata": {},
     "output_type": "execute_result"
    }
   ],
   "source": [
    "three"
   ]
  },
  {
   "cell_type": "code",
   "execution_count": 29,
   "metadata": {
    "collapsed": false
   },
   "outputs": [
    {
     "data": {
      "text/plain": [
       "8"
      ]
     },
     "execution_count": 29,
     "metadata": {},
     "output_type": "execute_result"
    }
   ],
   "source": [
    "four"
   ]
  },
  {
   "cell_type": "code",
   "execution_count": 30,
   "metadata": {
    "collapsed": false
   },
   "outputs": [
    {
     "data": {
      "text/plain": [
       "8"
      ]
     },
     "execution_count": 30,
     "metadata": {},
     "output_type": "execute_result"
    }
   ],
   "source": [
    "others"
   ]
  },
  {
   "cell_type": "code",
   "execution_count": 31,
   "metadata": {
    "collapsed": true
   },
   "outputs": [],
   "source": [
    "import matplotlib.pyplot as plt"
   ]
  },
  {
   "cell_type": "code",
   "execution_count": 32,
   "metadata": {
    "collapsed": true
   },
   "outputs": [],
   "source": [
    "x,y=[\"1\",\"2\",\"3\",\"4\",\"others\"],[one,two,three,four,others] "
   ]
  },
  {
   "cell_type": "code",
   "execution_count": 33,
   "metadata": {
    "collapsed": true
   },
   "outputs": [],
   "source": [
    "%matplotlib inline"
   ]
  },
  {
   "cell_type": "code",
   "execution_count": 36,
   "metadata": {
    "collapsed": false
   },
   "outputs": [],
   "source": [
    "import numpy as np"
   ]
  },
  {
   "cell_type": "code",
   "execution_count": 37,
   "metadata": {
    "collapsed": true
   },
   "outputs": [],
   "source": [
    "X = np.array([0,1,2,3,4])"
   ]
  },
  {
   "cell_type": "code",
   "execution_count": null,
   "metadata": {
    "collapsed": false
   },
   "outputs": [],
   "source": []
  },
  {
   "cell_type": "code",
   "execution_count": null,
   "metadata": {
    "collapsed": true
   },
   "outputs": [],
   "source": []
  }
 ],
 "metadata": {
  "kernelspec": {
   "display_name": "Python 2",
   "language": "python",
   "name": "python2"
  },
  "language_info": {
   "codemirror_mode": {
    "name": "ipython",
    "version": 2
   },
   "file_extension": ".py",
   "mimetype": "text/x-python",
   "name": "python",
   "nbconvert_exporter": "python",
   "pygments_lexer": "ipython2",
   "version": "2.7.10"
  }
 },
 "nbformat": 4,
 "nbformat_minor": 1
}
